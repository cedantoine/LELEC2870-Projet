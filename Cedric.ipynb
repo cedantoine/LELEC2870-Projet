{
 "metadata": {
  "language_info": {
   "codemirror_mode": {
    "name": "ipython",
    "version": 3
   },
   "file_extension": ".py",
   "mimetype": "text/x-python",
   "name": "python",
   "nbconvert_exporter": "python",
   "pygments_lexer": "ipython3",
   "version": "3.8.6-final"
  },
  "orig_nbformat": 2,
  "kernelspec": {
   "name": "python3",
   "display_name": "Python 3"
  }
 },
 "nbformat": 4,
 "nbformat_minor": 2,
 "cells": [
  {
   "cell_type": "code",
   "execution_count": 24,
   "metadata": {},
   "outputs": [],
   "source": [
    "import pandas as pd\n",
    "import numpy as np\n",
    "import sklearn\n",
    "\n",
    "from sklearn import linear_model\n",
    "\n",
    "X1 = pd.read_csv(\"X1.csv\")\n",
    "Y1 = pd.read_csv(\"Y1.csv\",header=None,names =['shares'])"
   ]
  },
  {
   "cell_type": "code",
   "execution_count": 25,
   "metadata": {},
   "outputs": [],
   "source": [
    "#X1.head(5)\n",
    "X1 = X1.values\n",
    "Y1 = Y1.values"
   ]
  },
  {
   "cell_type": "code",
   "execution_count": 26,
   "metadata": {},
   "outputs": [],
   "source": [
    "def scoreregression(ytrue, ypred):\n",
    "    scores = [\n",
    "    scoref1(ytrue, ypred, th=th) for th in [ 500, 1400, 5000, 10000]\n",
    "    ]\n",
    "    return np.mean(scores)"
   ]
  },
  {
   "cell_type": "code",
   "execution_count": 27,
   "metadata": {},
   "outputs": [],
   "source": [
    "def scoref1(ytrue, ypred, th):\n",
    "    return sklearn.metrics.f1_score(ytrue>th, ypred>th)"
   ]
  },
  {
   "cell_type": "code",
   "execution_count": 28,
   "metadata": {},
   "outputs": [],
   "source": [
    "def linear_regression(X1, Y1):\n",
    "    #select features\n",
    "    data = np.concatenate((np.transpose(X1[0:9999, :]),np.transpose(Y1[0:9999])))\n",
    "    corr = np.corrcoef(data)\n",
    "    ind = np.argpartition(corr[:][58], -4)[-4:]\n",
    "    features = np.zeros((19822,3))\n",
    "    tracker = 0\n",
    "    for i in ind[0:-1]:\n",
    "        features[:,tracker] = X1[:, i]\n",
    "        tracker +=1\n",
    "\n",
    "    # Create linear regression object\n",
    "    regr = linear_model.LinearRegression()\n",
    "\n",
    "    print(features.shape)\n",
    "\n",
    "    # Train the model using the training sets\n",
    "    regr.fit(features[0:9999,:], Y1[0:9999])\n",
    "\n",
    "    # Make predictions using the testing set\n",
    "    y_pred = regr.predict(features[:][10000:19000])\n",
    "    # The coefficients\n",
    "    print('Coefficients: \\n', regr.coef_)\n",
    "    # print('Mean squared error: %.2f'\n",
    "    #   % mean_squared_error(Y1[10000:19000], y_pred))\n",
    "    print(scoreregression(Y1[10000:19000], y_pred))"
   ]
  },
  {
   "cell_type": "code",
   "execution_count": 29,
   "metadata": {},
   "outputs": [
    {
     "output_type": "stream",
     "name": "stdout",
     "text": [
      "(19822, 3)\nCoefficients: \n [[ 7.48946616e+02 -5.51378185e-02  1.22246817e+00]]\n0.48164499011109585\n"
     ]
    }
   ],
   "source": [
    "linear_regression(X1,Y1)"
   ]
  },
  {
   "cell_type": "code",
   "execution_count": null,
   "metadata": {},
   "outputs": [],
   "source": []
  }
 ]
}