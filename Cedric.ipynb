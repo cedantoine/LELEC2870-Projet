{
 "metadata": {
  "language_info": {
   "codemirror_mode": {
    "name": "ipython",
    "version": 3
   },
   "file_extension": ".py",
   "mimetype": "text/x-python",
   "name": "python",
   "nbconvert_exporter": "python",
   "pygments_lexer": "ipython3",
   "version": "3.8.6-final"
  },
  "orig_nbformat": 2,
  "kernelspec": {
   "name": "python3",
   "display_name": "Python 3"
  }
 },
 "nbformat": 4,
 "nbformat_minor": 2,
 "cells": [
  {
   "cell_type": "code",
   "execution_count": 12,
   "metadata": {},
   "outputs": [],
   "source": [
    "import pandas as pd\n",
    "import numpy as np\n",
    "\n",
    "X1 = pd.read_csv(\"X1.csv\")\n",
    "Y1 = pd.read_csv(\"Y1.csv\",header=None,names =['shares'])"
   ]
  },
  {
   "cell_type": "code",
   "execution_count": 13,
   "metadata": {},
   "outputs": [
    {
     "output_type": "execute_result",
     "data": {
      "text/plain": [
       "   n_tokens_title  n_tokens_content  n_unique_tokens  n_non_stop_words  \\\n",
       "0            10.0             379.0         0.521622               1.0   \n",
       "1            12.0             402.0         0.502660               1.0   \n",
       "2            11.0               0.0         0.000000               0.0   \n",
       "3             9.0             256.0         0.619608               1.0   \n",
       "4            12.0             268.0         0.591603               1.0   \n",
       "\n",
       "   n_non_stop_unique_tokens  num_hrefs  num_self_hrefs  num_imgs  num_videos  \\\n",
       "0                  0.697248        5.0             2.0       1.0         0.0   \n",
       "1                  0.645299       12.0            10.0       1.0         0.0   \n",
       "2                  0.000000        0.0             0.0       0.0         1.0   \n",
       "3                  0.792208        2.0             0.0       0.0         1.0   \n",
       "4                  0.740260        1.0             1.0       1.0         1.0   \n",
       "\n",
       "   average_token_length  ...  avg_positive_polarity  min_positive_polarity  \\\n",
       "0              4.126649  ...               0.368452                    0.1   \n",
       "1              4.537313  ...               0.270170                    0.1   \n",
       "2              0.000000  ...               0.000000                    0.0   \n",
       "3              4.644531  ...               0.245130                    0.1   \n",
       "4              4.671642  ...               0.539076                    0.2   \n",
       "\n",
       "   max_positive_polarity  avg_negative_polarity  min_negative_polarity  \\\n",
       "0                    0.5              -0.244444              -0.500000   \n",
       "1                    0.5              -0.159259              -0.166667   \n",
       "2                    0.0               0.000000               0.000000   \n",
       "3                    1.0              -0.500000              -0.500000   \n",
       "4                    1.0              -0.254167              -0.500000   \n",
       "\n",
       "   max_negative_polarity  title_subjectivity  title_sentiment_polarity  \\\n",
       "0              -0.050000            0.227273                  0.068182   \n",
       "1              -0.155556            0.500000                  0.500000   \n",
       "2               0.000000            0.000000                  0.000000   \n",
       "3              -0.500000            0.200000                  0.100000   \n",
       "4              -0.050000            0.000000                  0.000000   \n",
       "\n",
       "   abs_title_subjectivity  abs_title_sentiment_polarity  \n",
       "0                0.272727                      0.068182  \n",
       "1                0.000000                      0.500000  \n",
       "2                0.500000                      0.000000  \n",
       "3                0.300000                      0.100000  \n",
       "4                0.500000                      0.000000  \n",
       "\n",
       "[5 rows x 58 columns]"
      ],
      "text/html": "<div>\n<style scoped>\n    .dataframe tbody tr th:only-of-type {\n        vertical-align: middle;\n    }\n\n    .dataframe tbody tr th {\n        vertical-align: top;\n    }\n\n    .dataframe thead th {\n        text-align: right;\n    }\n</style>\n<table border=\"1\" class=\"dataframe\">\n  <thead>\n    <tr style=\"text-align: right;\">\n      <th></th>\n      <th>n_tokens_title</th>\n      <th>n_tokens_content</th>\n      <th>n_unique_tokens</th>\n      <th>n_non_stop_words</th>\n      <th>n_non_stop_unique_tokens</th>\n      <th>num_hrefs</th>\n      <th>num_self_hrefs</th>\n      <th>num_imgs</th>\n      <th>num_videos</th>\n      <th>average_token_length</th>\n      <th>...</th>\n      <th>avg_positive_polarity</th>\n      <th>min_positive_polarity</th>\n      <th>max_positive_polarity</th>\n      <th>avg_negative_polarity</th>\n      <th>min_negative_polarity</th>\n      <th>max_negative_polarity</th>\n      <th>title_subjectivity</th>\n      <th>title_sentiment_polarity</th>\n      <th>abs_title_subjectivity</th>\n      <th>abs_title_sentiment_polarity</th>\n    </tr>\n  </thead>\n  <tbody>\n    <tr>\n      <th>0</th>\n      <td>10.0</td>\n      <td>379.0</td>\n      <td>0.521622</td>\n      <td>1.0</td>\n      <td>0.697248</td>\n      <td>5.0</td>\n      <td>2.0</td>\n      <td>1.0</td>\n      <td>0.0</td>\n      <td>4.126649</td>\n      <td>...</td>\n      <td>0.368452</td>\n      <td>0.1</td>\n      <td>0.5</td>\n      <td>-0.244444</td>\n      <td>-0.500000</td>\n      <td>-0.050000</td>\n      <td>0.227273</td>\n      <td>0.068182</td>\n      <td>0.272727</td>\n      <td>0.068182</td>\n    </tr>\n    <tr>\n      <th>1</th>\n      <td>12.0</td>\n      <td>402.0</td>\n      <td>0.502660</td>\n      <td>1.0</td>\n      <td>0.645299</td>\n      <td>12.0</td>\n      <td>10.0</td>\n      <td>1.0</td>\n      <td>0.0</td>\n      <td>4.537313</td>\n      <td>...</td>\n      <td>0.270170</td>\n      <td>0.1</td>\n      <td>0.5</td>\n      <td>-0.159259</td>\n      <td>-0.166667</td>\n      <td>-0.155556</td>\n      <td>0.500000</td>\n      <td>0.500000</td>\n      <td>0.000000</td>\n      <td>0.500000</td>\n    </tr>\n    <tr>\n      <th>2</th>\n      <td>11.0</td>\n      <td>0.0</td>\n      <td>0.000000</td>\n      <td>0.0</td>\n      <td>0.000000</td>\n      <td>0.0</td>\n      <td>0.0</td>\n      <td>0.0</td>\n      <td>1.0</td>\n      <td>0.000000</td>\n      <td>...</td>\n      <td>0.000000</td>\n      <td>0.0</td>\n      <td>0.0</td>\n      <td>0.000000</td>\n      <td>0.000000</td>\n      <td>0.000000</td>\n      <td>0.000000</td>\n      <td>0.000000</td>\n      <td>0.500000</td>\n      <td>0.000000</td>\n    </tr>\n    <tr>\n      <th>3</th>\n      <td>9.0</td>\n      <td>256.0</td>\n      <td>0.619608</td>\n      <td>1.0</td>\n      <td>0.792208</td>\n      <td>2.0</td>\n      <td>0.0</td>\n      <td>0.0</td>\n      <td>1.0</td>\n      <td>4.644531</td>\n      <td>...</td>\n      <td>0.245130</td>\n      <td>0.1</td>\n      <td>1.0</td>\n      <td>-0.500000</td>\n      <td>-0.500000</td>\n      <td>-0.500000</td>\n      <td>0.200000</td>\n      <td>0.100000</td>\n      <td>0.300000</td>\n      <td>0.100000</td>\n    </tr>\n    <tr>\n      <th>4</th>\n      <td>12.0</td>\n      <td>268.0</td>\n      <td>0.591603</td>\n      <td>1.0</td>\n      <td>0.740260</td>\n      <td>1.0</td>\n      <td>1.0</td>\n      <td>1.0</td>\n      <td>1.0</td>\n      <td>4.671642</td>\n      <td>...</td>\n      <td>0.539076</td>\n      <td>0.2</td>\n      <td>1.0</td>\n      <td>-0.254167</td>\n      <td>-0.500000</td>\n      <td>-0.050000</td>\n      <td>0.000000</td>\n      <td>0.000000</td>\n      <td>0.500000</td>\n      <td>0.000000</td>\n    </tr>\n  </tbody>\n</table>\n<p>5 rows × 58 columns</p>\n</div>"
     },
     "metadata": {},
     "execution_count": 13
    }
   ],
   "source": [
    "X1.head(5)"
   ]
  },
  {
   "cell_type": "code",
   "execution_count": null,
   "metadata": {},
   "outputs": [],
   "source": []
  }
 ]
}